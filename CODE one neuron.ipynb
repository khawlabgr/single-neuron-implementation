{
 "cells": [
  {
   "cell_type": "code",
   "execution_count": 1,
   "id": "1987c46d-3eb7-41fd-81c2-bcb95296a0f9",
   "metadata": {},
   "outputs": [],
   "source": [
    "import math\n"
   ]
  },
  {
   "cell_type": "code",
   "execution_count": 2,
   "id": "a36847b4-27cf-4b96-abb0-560d71cf1ab6",
   "metadata": {},
   "outputs": [],
   "source": [
    "def sigmoid(x):\n",
    "    return 1 / (1 + math.exp(-x))"
   ]
  },
  {
   "cell_type": "code",
   "execution_count": 3,
   "id": "4dade49b-54fb-4791-b5a8-4a3ee97e946e",
   "metadata": {},
   "outputs": [],
   "source": [
    "def neurone(input, poids, biais):\n",
    "    somme = 0\n",
    "    for i in range(len(input)):\n",
    "        somme += input[i] * poids[i]\n",
    "    somme += biais\n",
    "    y = sigmoid(somme)\n",
    "    return y"
   ]
  },
  {
   "cell_type": "code",
   "execution_count": 4,
   "id": "3cd3b7b2-cb84-47af-8a54-f55acd831a95",
   "metadata": {},
   "outputs": [],
   "source": [
    "# just an example (you can change the values) \n",
    "input = [2, 4]\n",
    "poids = [1, -3]\n",
    "biais = 10"
   ]
  },
  {
   "cell_type": "code",
   "execution_count": 5,
   "id": "4f7a9b9b-3fb4-4a7f-beb6-d33897b961c4",
   "metadata": {},
   "outputs": [
    {
     "name": "stdout",
     "output_type": "stream",
     "text": [
      "Output = 0.5\n"
     ]
    }
   ],
   "source": [
    "Output = neurone(input, poids, biais)\n",
    "print(\"Output =\", Output)"
   ]
  },
  {
   "cell_type": "code",
   "execution_count": null,
   "id": "90673b41-2568-456d-a921-d806feb02af0",
   "metadata": {},
   "outputs": [],
   "source": []
  }
 ],
 "metadata": {
  "kernelspec": {
   "display_name": "Python 3 (ipykernel)",
   "language": "python",
   "name": "python3"
  },
  "language_info": {
   "codemirror_mode": {
    "name": "ipython",
    "version": 3
   },
   "file_extension": ".py",
   "mimetype": "text/x-python",
   "name": "python",
   "nbconvert_exporter": "python",
   "pygments_lexer": "ipython3",
   "version": "3.12.1"
  }
 },
 "nbformat": 4,
 "nbformat_minor": 5
}
